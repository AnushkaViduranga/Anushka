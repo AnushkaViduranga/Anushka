{
 "cells": [
  {
   "cell_type": "markdown",
   "id": "ad03e8f6-29d8-48d0-8503-8b9b93d641e6",
   "metadata": {},
   "source": [
    "# Data Science Tools and Ecosystem"
   ]
  },
  {
   "cell_type": "markdown",
   "id": "c434e987-e5cb-4533-b505-2f0087561be7",
   "metadata": {},
   "source": [
    "## In this notebook, Data Science Tools and Ecosystem are summarized.\n"
   ]
  },
  {
   "cell_type": "markdown",
   "id": "0d73df44-14fe-45e3-bd13-75f475056b68",
   "metadata": {
    "tags": []
   },
   "source": [
    "### **Objectives**"
   ]
  },
  {
   "cell_type": "markdown",
   "id": "ce077724-fec4-4c27-b1b3-329ae5759afb",
   "metadata": {},
   "source": [
    "* List popular languages for Data Science\n",
    "* Commonly used libraries used by Data Scientists\n",
    "* Data Science Tools\n",
    "* Examples of evaluating arithmetic expressions in Python"
   ]
  },
  {
   "cell_type": "markdown",
   "id": "c9ba67d2-cc85-48d9-a8ab-95c0578d4ed5",
   "metadata": {
    "tags": []
   },
   "source": [
    "### Some of the popular languages that Data Scientists use are:"
   ]
  },
  {
   "cell_type": "markdown",
   "id": "d6092fb6-9d93-441c-908e-a36cdfb45d08",
   "metadata": {
    "tags": []
   },
   "source": [
    "1. Python \n",
    "2. Java\n",
    "3. C\n",
    "4. C++\n",
    "\n"
   ]
  },
  {
   "cell_type": "markdown",
   "id": "da19f76e-971a-4c4b-994e-f55cb9641117",
   "metadata": {},
   "source": [
    "### Some of the commonly used libraries used by Data Scientists include:"
   ]
  },
  {
   "cell_type": "markdown",
   "id": "01ec82a8-8fd6-4c53-acc9-2e02e88310eb",
   "metadata": {},
   "source": [
    "1. Pandas\n",
    "2. Numpy\n",
    "3. Matpotlib"
   ]
  },
  {
   "cell_type": "markdown",
   "id": "e6d151ff-34a6-4989-8d00-42faea783e29",
   "metadata": {
    "tags": []
   },
   "source": [
    "| Data Science Tools |\n",
    "|--------------------|\n",
    "| Jupyter Notebook |\n",
    "| R studio|\n",
    "| Apache Zeppelin |"
   ]
  },
  {
   "cell_type": "markdown",
   "id": "e37d9f1d-88fb-4364-a818-3ab1658c27c5",
   "metadata": {},
   "source": [
    "### Below are a few examples of evaluating arithmetic expressions in Python"
   ]
  },
  {
   "cell_type": "code",
   "execution_count": 10,
   "id": "a4b0949e-0e6b-4265-b2cc-3675164e2260",
   "metadata": {
    "tags": []
   },
   "outputs": [
    {
     "data": {
      "text/plain": [
       "17"
      ]
     },
     "execution_count": 10,
     "metadata": {},
     "output_type": "execute_result"
    }
   ],
   "source": [
    "(3*4)+5  # This a simple arithmetic expression to mutiply then add integers"
   ]
  },
  {
   "cell_type": "code",
   "execution_count": 13,
   "id": "444fdb0e-6d89-4771-90b5-347288c71b9f",
   "metadata": {
    "tags": []
   },
   "outputs": [
    {
     "data": {
      "text/plain": [
       "3.3333333333333335"
      ]
     },
     "execution_count": 13,
     "metadata": {},
     "output_type": "execute_result"
    }
   ],
   "source": [
    "200/60 #This will convert 200 minutes to hours by diving by 60"
   ]
  },
  {
   "cell_type": "markdown",
   "id": "65750e9b-71f1-4a09-958d-92006cded5cc",
   "metadata": {
    "tags": []
   },
   "source": [
    "## Author"
   ]
  },
  {
   "cell_type": "markdown",
   "id": "262876a5-ab52-4022-b817-aad44dcdb71c",
   "metadata": {
    "tags": []
   },
   "source": [
    "Anushka Viduranga"
   ]
  },
  {
   "cell_type": "code",
   "execution_count": null,
   "id": "e69c73b2-a417-4e6b-917c-12ab3e2b7a6c",
   "metadata": {},
   "outputs": [],
   "source": []
  }
 ],
 "metadata": {
  "kernelspec": {
   "display_name": "Python",
   "language": "python",
   "name": "conda-env-python-py"
  },
  "language_info": {
   "codemirror_mode": {
    "name": "ipython",
    "version": 3
   },
   "file_extension": ".py",
   "mimetype": "text/x-python",
   "name": "python",
   "nbconvert_exporter": "python",
   "pygments_lexer": "ipython3",
   "version": "3.7.12"
  }
 },
 "nbformat": 4,
 "nbformat_minor": 5
}
